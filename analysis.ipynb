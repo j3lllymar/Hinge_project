{
 "cells": [
  {
   "cell_type": "code",
   "execution_count": 21,
   "metadata": {},
   "outputs": [],
   "source": [
    "import requests\n",
    "import json\n",
    "\n",
    "payload = {\n",
    "    'model' : 'gpt-3.5-turbo',\n",
    "    'prompt' : 'Say this a test',\n",
    "    'temperature': 0,\n",
    "    'max_tokens' : 5,\n",
    "    'stream' : False\n",
    "}\n",
    "\n",
    "key = open('C:/Users/elima/Desktop/Projects/Hinge Project/keys.txt').readline()\n",
    "\n",
    "headers = {\n",
    "    'Content-Type' : 'application/json',\n",
    "    'Authorization' : f'Bearer {key}'\n",
    "}\n",
    "\n",
    "url = 'https://api.openai.com/v1/chat/completions'\n",
    "\n",
    "#response = requests.post(url, headers=headers,params=payload,stream=False)\n",
    "response = requests.post(url, headers=headers, data=json.dumps(payload),stream=False)"
   ]
  },
  {
   "cell_type": "code",
   "execution_count": 22,
   "metadata": {},
   "outputs": [
    {
     "data": {
      "text/plain": [
       "<Response [400]>"
      ]
     },
     "execution_count": 22,
     "metadata": {},
     "output_type": "execute_result"
    }
   ],
   "source": [
    "response"
   ]
  }
 ],
 "metadata": {
  "kernelspec": {
   "display_name": "Python 3",
   "language": "python",
   "name": "python3"
  },
  "language_info": {
   "codemirror_mode": {
    "name": "ipython",
    "version": 3
   },
   "file_extension": ".py",
   "mimetype": "text/x-python",
   "name": "python",
   "nbconvert_exporter": "python",
   "pygments_lexer": "ipython3",
   "version": "3.12.1"
  }
 },
 "nbformat": 4,
 "nbformat_minor": 2
}
