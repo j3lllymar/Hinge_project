{
 "cells": [
  {
   "cell_type": "code",
   "execution_count": null,
   "metadata": {},
   "outputs": [],
   "source": [
    "import pandas as pd\n",
    "from openai import OpenAI\n",
    "import json\n",
    "\n",
    "df = pd.read_csv('C:/Users/elima/Desktop/Projects/Hinge Project/HingeDataFrameComments').iloc[:,1:]\n",
    "\n",
    "text = ''\n",
    "counter = 0\n",
    "\n",
    "for i in range(len(df)):\n",
    "    for comment in df.iloc[i,1:]:\n",
    "        if (type(comment) != float):\n",
    "            text += comment + '|'"
   ]
  },
  {
   "cell_type": "code",
   "execution_count": null,
   "metadata": {},
   "outputs": [],
   "source": [
    "f = json.load(open('C:/Users/elima/Desktop/Projects/Hinge Project/keys'))\n",
    "key = f['openai_info']['secret_key']\n",
    "\n",
    "client = OpenAI(api_key=key)\n",
    "\n",
    "response = client.chat.completions.create(\n",
    "  model=\"gpt-4o-mini\",\n",
    "  messages=[\n",
    "    {'role': 'system', 'content': 'You are a helpful assistant.'},\n",
    "    {'role': 'user', 'content' : text},\n",
    "    {'role' : 'system', 'content' : 'Can identify common flaws in peoples profiles from the provided comments?'}\n",
    "  ]\n",
    ")"
   ]
  },
  {
   "cell_type": "code",
   "execution_count": null,
   "metadata": {},
   "outputs": [],
   "source": [
    "res = response.choices[0].message.content\n",
    "analysis_file = open('C:/Users/elima/Desktop/Projects/Hinge Project/openai analysis', 'w')\n",
    "analysis_file.write(res)\n",
    "res"
   ]
  }
 ],
 "metadata": {
  "kernelspec": {
   "display_name": "Python 3",
   "language": "python",
   "name": "python3"
  },
  "language_info": {
   "codemirror_mode": {
    "name": "ipython",
    "version": 3
   },
   "file_extension": ".py",
   "mimetype": "text/x-python",
   "name": "python",
   "nbconvert_exporter": "python",
   "pygments_lexer": "ipython3",
   "version": "3.12.1"
  }
 },
 "nbformat": 4,
 "nbformat_minor": 2
}
