{
 "cells": [
  {
   "cell_type": "code",
   "execution_count": null,
   "metadata": {},
   "outputs": [],
   "source": [
    "import requests\n",
    "import requests.auth\n",
    "import pandas as pd\n",
    "import re\n",
    "import json"
   ]
  },
  {
   "cell_type": "code",
   "execution_count": null,
   "metadata": {},
   "outputs": [],
   "source": [
    "def generate_header():\n",
    "    f = json.load(open('C:/Users/elima/Desktop/Projects/Hinge Project/keys'))\n",
    "\n",
    "    client_ID = f['reddit_api_key1']['client_ID']\n",
    "    secret_key = f['reddit_api_key1']['secret_key']\n",
    "\n",
    "    auth = requests.auth.HTTPBasicAuth(client_ID, secret_key)\n",
    "    data = {\n",
    "        'grant_type': 'password',\n",
    "        'username': f['reddit_login']['user_name'],\n",
    "        'password': f['reddit_login']['password']\n",
    "    }\n",
    "\n",
    "    headers = {'User-Agent': 'api_ver_1'}\n",
    "    \n",
    "    res = requests.post('https://www.reddit.com/api/v1/access_token',\n",
    "                        auth=auth, data=data, headers=headers)\n",
    "    res.json()\n",
    "\n",
    "    access_token = res.json()['access_token']\n",
    "    headers['Authorization'] = 'bearer ' + access_token\n",
    "    \n",
    "    return(headers)"
   ]
  },
  {
   "cell_type": "code",
   "execution_count": null,
   "metadata": {},
   "outputs": [],
   "source": [
    "base_url = 'https://oauth.reddit.com'\n",
    "\n",
    "hot_posts_payload = {'limit':100}\n",
    "hot_posts = requests.get(base_url + '/r/hingeapp/hot', headers=generate_header(), params=hot_posts_payload).json()"
   ]
  },
  {
   "cell_type": "code",
   "execution_count": null,
   "metadata": {},
   "outputs": [],
   "source": [
    "list_of_posts = []\n",
    "reddit_url = 'https://www.reddit.com'\n",
    "children_list = hot_posts['data']['children']\n",
    "\n",
    "for post in children_list:\n",
    "    if (post['data']['link_flair_richtext'][0]['t'] == 'Profile Review'):\n",
    "        post_dic = {}\n",
    "        post_title = post['data']['title']; post_dic['post title'] = post_title\n",
    "        post_text = post['data']['selftext'][:250]; post_dic['post text'] = post_text\n",
    "        found_age = re.search('[0-9][0-9]', post_title)\n",
    "        if (found_age):\n",
    "            age = found_age.group()\n",
    "        else:\n",
    "            age = None; \n",
    "        post_dic['age'] = age\n",
    "        num_of_comments = post['data']['num_comments'] - 1; post_dic['number of comments'] = num_of_comments \n",
    "        num_of_ups = post['data']['ups']; post_dic['number of ups'] = num_of_ups\n",
    "        post_url = post['data']['permalink'][21:28]; post_dic['post id'] = post_url\n",
    "        list_of_posts.append(post_dic)\n",
    "    \n",
    "df = pd.DataFrame(list_of_posts)\n",
    "pd.set_option('display.max_colwidth', None)\n",
    "#pd.reset_option('all')"
   ]
  },
  {
   "cell_type": "code",
   "execution_count": null,
   "metadata": {},
   "outputs": [],
   "source": [
    "df.to_csv('C:/Users/elima/Desktop/Projects/Hinge Project/HingeDataFramePosts')"
   ]
  },
  {
   "cell_type": "code",
   "execution_count": null,
   "metadata": {},
   "outputs": [],
   "source": []
  }
 ],
 "metadata": {
  "kernelspec": {
   "display_name": "Python 3",
   "language": "python",
   "name": "python3"
  },
  "language_info": {
   "codemirror_mode": {
    "name": "ipython",
    "version": 3
   },
   "file_extension": ".py",
   "mimetype": "text/x-python",
   "name": "python",
   "nbconvert_exporter": "python",
   "pygments_lexer": "ipython3",
   "version": "3.12.1"
  }
 },
 "nbformat": 4,
 "nbformat_minor": 2
}
