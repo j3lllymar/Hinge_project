{
 "cells": [
  {
   "cell_type": "code",
   "execution_count": null,
   "metadata": {},
   "outputs": [],
   "source": [
    "import requests\n",
    "import requests.auth\n",
    "import pandas as pd\n",
    "import json\n",
    "import re"
   ]
  },
  {
   "cell_type": "code",
   "execution_count": null,
   "metadata": {},
   "outputs": [],
   "source": [
    "\n",
    "f = json.load(open('C:/Users/elima/Desktop/Projects/Hinge Project/keys'))\n",
    "\n",
    "client_ID = f['reddit_api_key2']['client_ID']\n",
    "secret_key = f['reddit_api_key2']['secret_key']\n",
    "\n",
    "auth = requests.auth.HTTPBasicAuth(client_ID, secret_key)\n",
    "data = {\n",
    "    'grant_type': 'password',\n",
    "    'username': f['reddit_login']['user_name'],\n",
    "    'password': f['reddit_login']['password']\n",
    "}\n",
    "\n",
    "headers = {'User-Agent': 'api_ver_1'}\n",
    "\n",
    "res = requests.post('https://www.reddit.com/api/v1/access_token',\n",
    "                    auth=auth, data=data, headers=headers)\n",
    "access_token = res.json()['access_token']"
   ]
  },
  {
   "cell_type": "code",
   "execution_count": null,
   "metadata": {},
   "outputs": [],
   "source": [
    "headers['Authorization'] = 'bearer ' + access_token\n",
    "base_url = 'https://oauth.reddit.com'"
   ]
  },
  {
   "cell_type": "code",
   "execution_count": null,
   "metadata": {},
   "outputs": [],
   "source": [
    "df = pd.read_csv('C:/Users/elima/Desktop/Projects/Hinge Project/HingeDataFramePosts')\n",
    "pd.set_option('display.max_colwidth', None)"
   ]
  },
  {
   "cell_type": "code",
   "execution_count": null,
   "metadata": {},
   "outputs": [],
   "source": [
    "comments_payload = {'depth':0, 'limit':10}\n",
    "list_of_comments = []\n",
    "\n",
    "for i in range(len(df)):\n",
    "    post_ID = df['post id'][i]\n",
    "    profile_review_post = requests.get(base_url + '/r/hingeapp/comments/'+ post_ID, headers=headers, params=comments_payload).json()\n",
    "    id_and_top_comments = {}; j = 1\n",
    "    id_and_top_comments['post id'] = post_ID;\n",
    "    for comment in profile_review_post[1]['data']['children'][1:]:\n",
    "        if ('body' in comment['data']) and (comment['data']['author']!='AutoModerator'):\n",
    "            id_and_top_comments[f'comment {j}'] = comment['data']['body']\n",
    "        j += 1\n",
    "    list_of_comments.append(id_and_top_comments)"
   ]
  },
  {
   "cell_type": "code",
   "execution_count": null,
   "metadata": {},
   "outputs": [],
   "source": [
    "df_comments = pd.DataFrame(list_of_comments)\n",
    "pd.set_option('display.max_colwidth', None)"
   ]
  },
  {
   "cell_type": "code",
   "execution_count": null,
   "metadata": {},
   "outputs": [],
   "source": [
    "def clean_text(text):\n",
    "    pattern = '[^a-zA-Z0-9\\s]'\n",
    "    cleaned_text = re.sub(pattern, '', text).replace('\\n', ' ').lower()\n",
    "    return cleaned_text\n",
    "\n",
    "for column in df_comments.columns[1:]:\n",
    "    df_comments[column] = df_comments[column].apply(lambda x: clean_text(x) if pd.notnull(x) else x) "
   ]
  },
  {
   "cell_type": "code",
   "execution_count": null,
   "metadata": {},
   "outputs": [],
   "source": [
    "df_comments.to_csv('C:/Users/elima/Desktop/Projects/Hinge Project/HingeDataFrameComments')\n",
    "df_comments"
   ]
  }
 ],
 "metadata": {
  "kernelspec": {
   "display_name": "Python 3",
   "language": "python",
   "name": "python3"
  },
  "language_info": {
   "codemirror_mode": {
    "name": "ipython",
    "version": 3
   },
   "file_extension": ".py",
   "mimetype": "text/x-python",
   "name": "python",
   "nbconvert_exporter": "python",
   "pygments_lexer": "ipython3",
   "version": "3.12.1"
  }
 },
 "nbformat": 4,
 "nbformat_minor": 2
}
